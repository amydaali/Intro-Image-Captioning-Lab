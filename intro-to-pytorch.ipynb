{
 "cells": [
  {
   "cell_type": "markdown",
   "metadata": {},
   "source": [
    "<h1>Table of Contents<span class=\"tocSkip\"></span></h1>\n",
    "<div class=\"toc\" style=\"margin-top: 1em;\"><ul class=\"toc-item\"><li><span><a href=\"#Intro-to-Pytorch\" data-toc-modified-id=\"Intro-to-Pytorch-1\"><span class=\"toc-item-num\">1&nbsp;&nbsp;</span>Intro to Pytorch</a></span><ul class=\"toc-item\"><li><span><a href=\"#Pytorch-tensors\" data-toc-modified-id=\"Pytorch-tensors-1.1\"><span class=\"toc-item-num\">1.1&nbsp;&nbsp;</span>Pytorch tensors</a></span></li><li><span><a href=\"#Pytorch-Autograd\" data-toc-modified-id=\"Pytorch-Autograd-1.2\"><span class=\"toc-item-num\">1.2&nbsp;&nbsp;</span>Pytorch Autograd</a></span></li><li><span><a href=\"#torch.nn-module\" data-toc-modified-id=\"torch.nn-module-1.3\"><span class=\"toc-item-num\">1.3&nbsp;&nbsp;</span>torch.nn module</a></span></li></ul></li><li><span><a href=\"#Linear-Regression-with-Pytorch\" data-toc-modified-id=\"Linear-Regression-with-Pytorch-2\"><span class=\"toc-item-num\">2&nbsp;&nbsp;</span>Linear Regression with Pytorch</a></span><ul class=\"toc-item\"><li><span><a href=\"#Gradient-Descent-with-Pytorch\" data-toc-modified-id=\"Gradient-Descent-with-Pytorch-2.1\"><span class=\"toc-item-num\">2.1&nbsp;&nbsp;</span>Gradient Descent with Pytorch</a></span></li><li><span><a href=\"#Simplified-GD-Loop\" data-toc-modified-id=\"Simplified-GD-Loop-2.2\"><span class=\"toc-item-num\">2.2&nbsp;&nbsp;</span>Simplified GD Loop</a></span></li></ul></li><li><span><a href=\"#Logistic-Regression\" data-toc-modified-id=\"Logistic-Regression-3\"><span class=\"toc-item-num\">3&nbsp;&nbsp;</span>Logistic Regression</a></span></li><li><span><a href=\"#Data-loaders-for-SGD\" data-toc-modified-id=\"Data-loaders-for-SGD-4\"><span class=\"toc-item-num\">4&nbsp;&nbsp;</span>Data loaders for SGD</a></span></li><li><span><a href=\"#Two-layer-neural-network\" data-toc-modified-id=\"Two-layer-neural-network-5\"><span class=\"toc-item-num\">5&nbsp;&nbsp;</span>Two layer neural network</a></span></li><li><span><a href=\"#References\" data-toc-modified-id=\"References-6\"><span class=\"toc-item-num\">6&nbsp;&nbsp;</span>References</a></span></li></ul></div>"
   ]
  },
  {
   "cell_type": "code",
   "execution_count": 2,
   "metadata": {},
   "outputs": [],
   "source": [
    "# Import pytorch libraries\n",
    "%matplotlib inline\n",
    "import torch \n",
    "import torch.autograd as autograd \n",
    "import torch.nn as nn \n",
    "import torch.nn.functional as F\n",
    "import torch.optim as optim\n",
    "import numpy as np\n"
   ]
  },
  {
   "cell_type": "markdown",
   "metadata": {},
   "source": [
    "# Intro to Pytorch"
   ]
  },
  {
   "cell_type": "markdown",
   "metadata": {},
   "source": [
    "PyTorch consists of 4 main packages:\n",
    "* torch: a general purpose array library similar to Numpy that can do computations on GPU\n",
    "* torch.autograd: a package for automatically obtaining gradients\n",
    "* torch.nn: a neural net library with common layers and cost functions\n",
    "* torch.optim: an optimization package with common optimization algorithms like SGD, Adam, etc"
   ]
  },
  {
   "cell_type": "markdown",
   "metadata": {},
   "source": [
    "## Pytorch Tensors\n",
    "Like Numpy tensors but can utilize GPUs to accelerate its numerical computations."
   ]
  },
  {
   "cell_type": "code",
   "execution_count": 3,
   "metadata": {},
   "outputs": [],
   "source": [
    "# Create random tensor\n",
    "N = 5\n",
    "x = torch.randn(N, 10).type(torch.FloatTensor)"
   ]
  },
  {
   "cell_type": "code",
   "execution_count": 4,
   "metadata": {},
   "outputs": [
    {
     "data": {
      "text/plain": [
       "tensor([[ 0.0041, -1.7381, -1.2894,  0.3319, -1.8098, -1.1173, -1.9783, -0.2284,\n",
       "          0.2406,  0.6283],\n",
       "        [-0.2120, -1.3554,  0.0335,  0.0231, -0.7798, -1.7525,  1.3980, -1.8621,\n",
       "         -0.5810,  1.5002],\n",
       "        [-0.2079, -1.0571,  1.3412,  1.0611,  1.4049, -0.5099,  0.3581, -1.6398,\n",
       "         -0.3954,  0.2827],\n",
       "        [-0.2728,  0.5480, -1.5600, -0.5010, -0.0336,  2.1889,  1.0808,  0.6217,\n",
       "          1.1968, -0.0256],\n",
       "        [-0.0950, -1.3472, -1.1212, -0.7246, -0.8376, -1.3769, -0.5203,  0.5709,\n",
       "          1.0685, -0.8493]])"
      ]
     },
     "execution_count": 4,
     "metadata": {},
     "output_type": "execute_result"
    }
   ],
   "source": [
    "x"
   ]
  },
  {
   "cell_type": "code",
   "execution_count": 5,
   "metadata": {},
   "outputs": [
    {
     "data": {
      "text/plain": [
       "tensor([[ 0.0041, -1.7381, -1.2894,  0.3319, -1.8098, -1.1173, -1.9783, -0.2284,\n",
       "          0.2406,  0.6283, -0.2120, -1.3554,  0.0335,  0.0231, -0.7798, -1.7525,\n",
       "          1.3980, -1.8621, -0.5810,  1.5002, -0.2079, -1.0571,  1.3412,  1.0611,\n",
       "          1.4049, -0.5099,  0.3581, -1.6398, -0.3954,  0.2827, -0.2728,  0.5480,\n",
       "         -1.5600, -0.5010, -0.0336,  2.1889,  1.0808,  0.6217,  1.1968, -0.0256,\n",
       "         -0.0950, -1.3472, -1.1212, -0.7246, -0.8376, -1.3769, -0.5203,  0.5709,\n",
       "          1.0685, -0.8493]])"
      ]
     },
     "execution_count": 5,
     "metadata": {},
     "output_type": "execute_result"
    }
   ],
   "source": [
    "# reshaping of tensors using .view()\n",
    "x.view(1,-1) #-1 makes torch infer the second dim"
   ]
  },
  {
   "cell_type": "markdown",
   "metadata": {},
   "source": [
    "## Pytorch Autograd\n",
    "The autograd package in PyTorch provides classes and functions implementing automatic differentiation of arbitrary scalar valued function. For example, the gradient of the error with respect to all parameters.\n",
    "\n",
    "In order for this to happen we need to declare our paramerers as Tensors with the requires_grad=True keyword. Here is an example:"
   ]
  },
  {
   "cell_type": "code",
   "execution_count": 6,
   "metadata": {},
   "outputs": [],
   "source": [
    "x = torch.tensor([1., 2., 3., 4., 5., 6.], requires_grad=True)"
   ]
  },
  {
   "cell_type": "code",
   "execution_count": 7,
   "metadata": {},
   "outputs": [],
   "source": [
    "x.grad"
   ]
  },
  {
   "cell_type": "code",
   "execution_count": 8,
   "metadata": {},
   "outputs": [
    {
     "data": {
      "text/plain": [
       "tensor(48., grad_fn=<SumBackward0>)"
      ]
     },
     "execution_count": 8,
     "metadata": {},
     "output_type": "execute_result"
    }
   ],
   "source": [
    "L = (2*x+1).sum()\n",
    "L"
   ]
  },
  {
   "cell_type": "code",
   "execution_count": 9,
   "metadata": {},
   "outputs": [],
   "source": [
    "L.backward() # computes the grad of L with respect to x"
   ]
  },
  {
   "cell_type": "code",
   "execution_count": 10,
   "metadata": {},
   "outputs": [
    {
     "data": {
      "text/plain": [
       "tensor([2., 2., 2., 2., 2., 2.])"
      ]
     },
     "execution_count": 10,
     "metadata": {},
     "output_type": "execute_result"
    }
   ],
   "source": [
    "x.grad"
   ]
  },
  {
   "cell_type": "markdown",
   "metadata": {},
   "source": [
    "## torch.nn module\n",
    "A neural net library with common layers and cost functions"
   ]
  },
  {
   "cell_type": "code",
   "execution_count": 11,
   "metadata": {},
   "outputs": [],
   "source": [
    "# linear transformation of a Nx5 matrix into a Nx3 matrix, where N can be anything \n",
    "# (number of observations)\n",
    "D = 5 # number of input featutes\n",
    "M = 3 # neurons in the first hidden layer\n",
    "linear_map = nn.Linear(D, M)"
   ]
  },
  {
   "cell_type": "code",
   "execution_count": 12,
   "metadata": {},
   "outputs": [
    {
     "data": {
      "text/plain": [
       "[Parameter containing:\n",
       " tensor([[ 0.1393,  0.3476, -0.0856,  0.2591, -0.0767],\n",
       "         [-0.3601,  0.1450, -0.1936,  0.2901, -0.3410],\n",
       "         [-0.4222,  0.3284,  0.0820,  0.2803,  0.3298]], requires_grad=True),\n",
       " Parameter containing:\n",
       " tensor([0.2156, 0.1510, 0.4349], requires_grad=True)]"
      ]
     },
     "execution_count": 12,
     "metadata": {},
     "output_type": "execute_result"
    }
   ],
   "source": [
    "# parameters are initialized randomly\n",
    "[p for p in linear_map.parameters()]"
   ]
  },
  {
   "cell_type": "markdown",
   "metadata": {},
   "source": [
    "#  Linear Regression with Pytorch\n",
    "\n",
    "The goal of linear regression is to fit a line to a set of points."
   ]
  },
  {
   "cell_type": "code",
   "execution_count": 13,
   "metadata": {},
   "outputs": [],
   "source": [
    "# Here we generate some fake data\n",
    "def lin(a,b,x): return a*x+b\n",
    "\n",
    "def gen_fake_data(n, a, b):\n",
    "    x = np.random.uniform(0,1,n) \n",
    "    y = lin(a,b,x) + 0.1 * np.random.normal(0,3,n)\n",
    "    return x, y\n",
    "\n",
    "x, y = gen_fake_data(50, 3., 8.)"
   ]
  },
  {
   "cell_type": "code",
   "execution_count": 14,
   "metadata": {},
   "outputs": [
    {
     "data": {
      "image/png": "[encoded data removed]",
      "text/plain": [
       "<matplotlib.figure.Figure at 0x11c9f8470>"
      ]
     },
     "metadata": {},
     "output_type": "display_data"
    }
   ],
   "source": [
    "import matplotlib.pyplot as plt\n",
    "plt.scatter(x,y, s=8); plt.xlabel(\"x\"); plt.ylabel(\"y\"); "
   ]
  },
  {
   "cell_type": "markdown",
   "metadata": {},
   "source": [
    "You want to find **parameters** (weights) $a$ and $b$ such that you minimize the *error* between the points and the line $a\\cdot x + b$. Note that here $a$ and $b$ are unknown. For a regression problem the most common *error function* or *loss function* is the **mean squared error**. "
   ]
  },
  {
   "cell_type": "code",
   "execution_count": 16,
   "metadata": {},
   "outputs": [],
   "source": [
    "def mse(y_hat, y): return ((y_hat - y) ** 2).mean()"
   ]
  },
  {
   "cell_type": "markdown",
   "metadata": {},
   "source": [
    "Suppose we believe $a = 10$ and $b = 5$ then we can compute `y_hat` which is our *prediction* and then compute our error."
   ]
  },
  {
   "cell_type": "code",
   "execution_count": 17,
   "metadata": {},
   "outputs": [
    {
     "data": {
      "text/plain": [
       "3.949420211586095"
      ]
     },
     "execution_count": 17,
     "metadata": {},
     "output_type": "execute_result"
    }
   ],
   "source": [
    "y_hat = lin(10,5,x)\n",
    "mse(y_hat, y)"
   ]
  },
  {
   "cell_type": "code",
   "execution_count": 18,
   "metadata": {},
   "outputs": [],
   "source": [
    "def mse_loss(a, b, x, y): return mse(lin(a,b,x), y)"
   ]
  },
  {
   "cell_type": "code",
   "execution_count": 19,
   "metadata": {},
   "outputs": [
    {
     "data": {
      "text/plain": [
       "3.949420211586095"
      ]
     },
     "execution_count": 19,
     "metadata": {},
     "output_type": "execute_result"
    }
   ],
   "source": [
    "mse_loss(10, 5, x, y)"
   ]
  },
  {
   "cell_type": "markdown",
   "metadata": {},
   "source": [
    "So far we have specified the *model* (linear regression) and the *evaluation criteria* (or *loss function*). Now we need to handle *optimization*; that is, how do we find the best values for $a$ and $b$? How do we find the best *fitting* linear regression."
   ]
  },
  {
   "cell_type": "markdown",
   "metadata": {},
   "source": [
    "## Gradient Descent with Pytorch"
   ]
  },
  {
   "cell_type": "markdown",
   "metadata": {},
   "source": [
    "For a fixed dataset $x$ and $y$ `mse_loss(a,b)` is a function of $a$ and $b$. We would like to find the values of $a$ and $b$ that minimize that function.\n",
    "\n",
    "**Gradient descent** is an algorithm that minimizes functions. Given a function defined by a set of parameters, gradient descent starts with an initial set of parameter values and iteratively moves toward a set of parameter values that minimize the function. This iterative minimization is achieved by taking steps in the negative direction of the function gradient.\n",
    "\n",
    "Here is gradient descent implemented in [PyTorch](http://pytorch.org/)."
   ]
  },
  {
   "cell_type": "code",
   "execution_count": 22,
   "metadata": {},
   "outputs": [
    {
     "data": {
      "text/plain": [
       "((10000,), (10000,))"
      ]
     },
     "execution_count": 22,
     "metadata": {},
     "output_type": "execute_result"
    }
   ],
   "source": [
    "# generate some more data\n",
    "x, y = gen_fake_data(10000, 3., 8.)\n",
    "x.shape, y.shape"
   ]
  },
  {
   "cell_type": "code",
   "execution_count": 23,
   "metadata": {},
   "outputs": [],
   "source": [
    "# Wrap x and y as tensor \n",
    "x = torch.tensor(x)\n",
    "y = torch.tensor(y)"
   ]
  },
  {
   "cell_type": "code",
   "execution_count": 24,
   "metadata": {},
   "outputs": [
    {
     "data": {
      "text/plain": [
       "(tensor([0.0672], dtype=torch.float64, requires_grad=True),\n",
       " tensor([-2.2984], dtype=torch.float64, requires_grad=True))"
      ]
     },
     "execution_count": 24,
     "metadata": {},
     "output_type": "execute_result"
    }
   ],
   "source": [
    "# Create random Tensors for weights, and wrap them in tensors.\n",
    "# Setting requires_grad=True indicates that we want to compute gradients with\n",
    "# respect to these tensors during the backward pass.\n",
    "a, b = np.random.randn(1), np.random.randn(1)\n",
    "a = torch.tensor(a, requires_grad=True)\n",
    "b = torch.tensor(b, requires_grad=True)\n",
    "a,b"
   ]
  },
  {
   "cell_type": "code",
   "execution_count": 25,
   "metadata": {},
   "outputs": [
    {
     "name": "stdout",
     "output_type": "stream",
     "text": [
      "139.163908343058\n",
      "1.2210351358021325\n",
      "0.29788298127283547\n",
      "0.24570431113642238\n",
      "0.2096586407722358\n",
      "0.1819384771650798\n",
      "0.1606012182763307\n",
      "0.14417699964968236\n",
      "0.13153456158750834\n",
      "0.12180312511139711\n"
     ]
    }
   ],
   "source": [
    "learning_rate = 1e-3\n",
    "for t in range(10000):\n",
    "    # Forward pass: compute predicted y using operations on Variables\n",
    "    loss = mse_loss(a,b,x,y)\n",
    "    if t % 1000 == 0: print(loss.item())\n",
    "    \n",
    "    # Computes the gradient of loss with respect to all Variables with requires_grad=True.\n",
    "    # After this call a.grad and b.grad will be Variables holding the gradient\n",
    "    # of the loss with respect to a and b respectively\n",
    "    loss.backward()\n",
    "    \n",
    "    # Update a and b using gradient descent; a.data and b.data are Tensors,\n",
    "    # a.grad and b.grad are Variables and a.grad.data and b.grad.data are Tensors\n",
    "    a.data -= learning_rate * a.grad.data\n",
    "    b.data -= learning_rate * b.grad.data\n",
    "    \n",
    "    # Zero the gradients\n",
    "    a.grad.data.zero_()\n",
    "    b.grad.data.zero_()    "
   ]
  },
  {
   "cell_type": "code",
   "execution_count": 26,
   "metadata": {},
   "outputs": [
    {
     "name": "stdout",
     "output_type": "stream",
     "text": [
      "tensor([3.5261], dtype=torch.float64, requires_grad=True) tensor([7.7178], dtype=torch.float64, requires_grad=True)\n"
     ]
    }
   ],
   "source": [
    "print(a,b)"
   ]
  },
  {
   "cell_type": "markdown",
   "metadata": {},
   "source": [
    "## Simplified GD Loop"
   ]
  },
  {
   "cell_type": "code",
   "execution_count": 27,
   "metadata": {},
   "outputs": [
    {
     "data": {
      "text/plain": [
       "Linear(in_features=1, out_features=1, bias=True)"
      ]
     },
     "execution_count": 27,
     "metadata": {},
     "output_type": "execute_result"
    }
   ],
   "source": [
    "# linear tranformation with input dimension=1 and output dimension=1\n",
    "nn.Linear(1, 1)"
   ]
  },
  {
   "cell_type": "code",
   "execution_count": 28,
   "metadata": {},
   "outputs": [
    {
     "data": {
      "text/plain": [
       "Sequential(\n",
       "  (0): Linear(in_features=1, out_features=1, bias=True)\n",
       ")"
      ]
     },
     "execution_count": 28,
     "metadata": {},
     "output_type": "execute_result"
    }
   ],
   "source": [
    "# simple way of specifying a linear regression model\n",
    "model = torch.nn.Sequential(\n",
    "    nn.Linear(1, 1),\n",
    ")\n",
    "model"
   ]
  },
  {
   "cell_type": "code",
   "execution_count": 29,
   "metadata": {},
   "outputs": [],
   "source": [
    "# equivalent way of specifiying the same model\n",
    "class LinearRegression(nn.Module):\n",
    "    def __init__(self):\n",
    "        super(LinearRegression, self).__init__()\n",
    "        self.lin = nn.Linear(1, 1)\n",
    "        \n",
    "    def forward(self, x):\n",
    "        x = self.lin(x)\n",
    "        return x \n",
    "model =  LinearRegression()"
   ]
  },
  {
   "cell_type": "code",
   "execution_count": 30,
   "metadata": {},
   "outputs": [
    {
     "name": "stdout",
     "output_type": "stream",
     "text": [
      "[Parameter containing:\n",
      "tensor([[-0.9365]], requires_grad=True), Parameter containing:\n",
      "tensor([-0.5324], requires_grad=True)]\n"
     ]
    }
   ],
   "source": [
    "print([p for p in model.parameters()])"
   ]
  },
  {
   "cell_type": "code",
   "execution_count": 31,
   "metadata": {},
   "outputs": [
    {
     "data": {
      "text/plain": [
       "torch.Size([10000])"
      ]
     },
     "execution_count": 31,
     "metadata": {},
     "output_type": "execute_result"
    }
   ],
   "source": [
    "x, y = gen_fake_data(10000, 3., 8.)\n",
    "x = torch.tensor(x).float()\n",
    "y = torch.tensor(y).float()\n",
    "x.shape"
   ]
  },
  {
   "cell_type": "code",
   "execution_count": 32,
   "metadata": {},
   "outputs": [
    {
     "data": {
      "text/plain": [
       "torch.Size([10000, 1])"
      ]
     },
     "execution_count": 32,
     "metadata": {},
     "output_type": "execute_result"
    }
   ],
   "source": [
    "# you have to be careful with the dimensions that your model is expecting\n",
    "x1 = torch.unsqueeze(x, 1)\n",
    "x1.shape"
   ]
  },
  {
   "cell_type": "code",
   "execution_count": 33,
   "metadata": {},
   "outputs": [
    {
     "name": "stdout",
     "output_type": "stream",
     "text": [
      "tensor([[-0.5556],\n",
      "        [-0.9399],\n",
      "        [-0.5929],\n",
      "        ...,\n",
      "        [-1.2705],\n",
      "        [-1.1847],\n",
      "        [-0.6163]], grad_fn=<ThAddmmBackward>)\n"
     ]
    }
   ],
   "source": [
    "y_hat = model(x1)\n",
    "print(y_hat)"
   ]
  },
  {
   "cell_type": "code",
   "execution_count": 34,
   "metadata": {},
   "outputs": [],
   "source": [
    "# Use the optim package to define an Optimizer that will update the weights of\n",
    "# the model for us. Here we will use Adam\n",
    "learning_rate = 0.1\n",
    "optimizer = torch.optim.Adam(model.parameters(), lr=learning_rate)"
   ]
  },
  {
   "cell_type": "code",
   "execution_count": 35,
   "metadata": {},
   "outputs": [
    {
     "name": "stdout",
     "output_type": "stream",
     "text": [
      "111.2056655883789\n",
      "0.09083694964647293\n",
      "0.0908060297369957\n",
      "0.0908060297369957\n",
      "0.0908060297369957\n",
      "0.0908060297369957\n",
      "0.0908060297369957\n",
      "0.0908060297369957\n",
      "0.0908060297369957\n",
      "0.0908060297369957\n"
     ]
    }
   ],
   "source": [
    "for t in range(10000):\n",
    "    # Forward pass: compute predicted y using operations on Variables\n",
    "    y_hat = model(x1)\n",
    "    loss = F.mse_loss(y_hat, y.unsqueeze(1))\n",
    "    if t % 1000 == 0: print(loss.item())\n",
    "       \n",
    "    # Before the backward pass, use the optimizer object to zero all of the\n",
    "    # gradients for the variables\n",
    "    optimizer.zero_grad()\n",
    "    loss.backward()\n",
    "    \n",
    "    # Calling the step function on an Optimizer makes an update to its\n",
    "    # parameters\n",
    "    optimizer.step()"
   ]
  },
  {
   "cell_type": "code",
   "execution_count": 36,
   "metadata": {},
   "outputs": [
    {
     "name": "stdout",
     "output_type": "stream",
     "text": [
      "[Parameter containing:\n",
      "tensor([[3.0054]], requires_grad=True), Parameter containing:\n",
      "tensor([7.9987], requires_grad=True)]\n"
     ]
    }
   ],
   "source": [
    "print([p for p in model.parameters()])"
   ]
  },
  {
   "cell_type": "markdown",
   "metadata": {},
   "source": [
    "# Logistic Regression"
   ]
  },
  {
   "cell_type": "code",
   "execution_count": 37,
   "metadata": {},
   "outputs": [],
   "source": [
    "# generating fake data\n",
    "# Here we generate some fake data\n",
    "def lin(a,b,x): return a*x+b\n",
    "\n",
    "def gen_logistic_fake_data(n, a, b):\n",
    "    x = np.random.uniform(-20,20, (n, 2))\n",
    "    x2_hat = lin(a,b, x[:,0])\n",
    "    y = x[:,1] > x2_hat\n",
    "    return x, y.astype(int)\n",
    "\n",
    "x, y = gen_logistic_fake_data(100, 1., 0.5)"
   ]
  },
  {
   "cell_type": "code",
   "execution_count": 38,
   "metadata": {},
   "outputs": [
    {
     "data": {
      "text/plain": [
       "array([0, 1, 0, 1, 1, 0, 1, 1, 0, 1, 0, 0, 0, 1, 1, 1, 1, 0, 0, 0, 1, 0,\n",
       "       1, 1, 1, 0, 0, 1, 1, 1, 0, 1, 1, 1, 0, 1, 0, 0, 1, 0, 1, 1, 0, 0,\n",
       "       1, 0, 1, 0, 0, 0, 0, 0, 1, 0, 1, 1, 0, 1, 0, 1, 1, 0, 0, 0, 0, 0,\n",
       "       0, 1, 0, 1, 0, 0, 1, 1, 0, 1, 0, 1, 1, 0, 0, 0, 1, 0, 1, 1, 0, 0,\n",
       "       0, 1, 1, 0, 0, 1, 1, 1, 0, 0, 1, 1])"
      ]
     },
     "execution_count": 38,
     "metadata": {},
     "output_type": "execute_result"
    }
   ],
   "source": [
    "y"
   ]
  },
  {
   "cell_type": "code",
   "execution_count": 39,
   "metadata": {},
   "outputs": [
    {
     "data": {
      "text/plain": [
       "[<matplotlib.lines.Line2D at 0x11fd8af98>]"
      ]
     },
     "execution_count": 39,
     "metadata": {},
     "output_type": "execute_result"
    },
    {
     "data": {
      "image/png": "[encoded data removed]",
      "text/plain": [
       "<matplotlib.figure.Figure at 0x11fd8af60>"
      ]
     },
     "metadata": {},
     "output_type": "display_data"
    }
   ],
   "source": [
    "t = np.arange(-20, 20, 0.2)\n",
    "import matplotlib.pyplot as plt\n",
    "plt.scatter(x[:,0],x[:,1],c=y, s=8);\n",
    "plt.xlabel(\"x1\"); plt.ylabel(\"x2\");\n",
    "plt.plot(t, t + 0.5, 'r--')"
   ]
  },
  {
   "cell_type": "code",
   "execution_count": 40,
   "metadata": {},
   "outputs": [],
   "source": [
    "x = torch.tensor(x).float()\n",
    "y = torch.tensor(y).float()"
   ]
  },
  {
   "cell_type": "code",
   "execution_count": 41,
   "metadata": {},
   "outputs": [
    {
     "data": {
      "text/plain": [
       "Sequential(\n",
       "  (0): Linear(in_features=2, out_features=1, bias=True)\n",
       ")"
      ]
     },
     "execution_count": 41,
     "metadata": {},
     "output_type": "execute_result"
    }
   ],
   "source": [
    "model = torch.nn.Sequential(\n",
    "    torch.nn.Linear(2, 1),\n",
    ")\n",
    "model"
   ]
  },
  {
   "cell_type": "code",
   "execution_count": 42,
   "metadata": {},
   "outputs": [
    {
     "data": {
      "text/plain": [
       "torch.Size([100, 1])"
      ]
     },
     "execution_count": 42,
     "metadata": {},
     "output_type": "execute_result"
    }
   ],
   "source": [
    "model(x).shape"
   ]
  },
  {
   "cell_type": "code",
   "execution_count": 43,
   "metadata": {},
   "outputs": [],
   "source": [
    "x, y = gen_logistic_fake_data(10000, 1., 0.5)\n",
    "x = torch.tensor(x).float()\n",
    "y = torch.tensor(y).float()"
   ]
  },
  {
   "cell_type": "code",
   "execution_count": 44,
   "metadata": {},
   "outputs": [],
   "source": [
    "learning_rate = 0.1\n",
    "optimizer = torch.optim.Adam(model.parameters(), lr=learning_rate)"
   ]
  },
  {
   "cell_type": "code",
   "execution_count": 46,
   "metadata": {},
   "outputs": [
    {
     "name": "stdout",
     "output_type": "stream",
     "text": [
      "0.0032904522959142923\n",
      "0.002818073146045208\n",
      "0.002410587389022112\n",
      "0.002066174754872918\n",
      "0.0018160827457904816\n",
      "0.001632366213016212\n",
      "0.001490896218456328\n",
      "0.0013801336754113436\n",
      "0.0012890745420008898\n",
      "0.001213448354974389\n"
     ]
    }
   ],
   "source": [
    "for t in range(10000):\n",
    "    # Forward pass: compute predicted y using operations on Variables\n",
    "    y_hat = model(x)\n",
    "    loss = F.binary_cross_entropy(torch.sigmoid(y_hat), y.unsqueeze(1))\n",
    "    if t % 1000 == 0: print(loss.item())\n",
    "       \n",
    "    # Before the backward pass, use the optimizer object to zero all of the\n",
    "    # gradients for the variables\n",
    "    optimizer.zero_grad()\n",
    "    loss.backward()\n",
    "    \n",
    "    # Calling the step function on an Optimizer makes an update to its\n",
    "    # parameters\n",
    "    optimizer.step()"
   ]
  },
  {
   "cell_type": "code",
   "execution_count": 47,
   "metadata": {},
   "outputs": [
    {
     "name": "stdout",
     "output_type": "stream",
     "text": [
      "[Parameter containing:\n",
      "tensor([[-51.2518,  51.2369]], requires_grad=True), Parameter containing:\n",
      "tensor([-25.9621], requires_grad=True)]\n"
     ]
    }
   ],
   "source": [
    "print([p for p in model.parameters()])"
   ]
  },
  {
   "cell_type": "markdown",
   "metadata": {},
   "source": [
    "# Data loaders for SGD"
   ]
  },
  {
   "cell_type": "markdown",
   "metadata": {},
   "source": [
    "Nearly all of deep learning is powered by one very important algorithm: **stochastic gradient descent (SGD)**. SGD can be seeing as an approximation of **gradient descent** (GD). In GD you have to run through *all* the samples in your training set to do a single itaration. In SGD you use *only one* or *a subset*  of training samples to do the update for a parameter in a particular iteration. The subset use in every iteration is called a **batch** or **minibatch**."
   ]
  },
  {
   "cell_type": "code",
   "execution_count": 49,
   "metadata": {},
   "outputs": [],
   "source": [
    "model2 = torch.nn.Sequential(\n",
    "    torch.nn.Linear(1, 1),\n",
    ")"
   ]
  },
  {
   "cell_type": "code",
   "execution_count": 50,
   "metadata": {},
   "outputs": [],
   "source": [
    "from torch.utils.data import Dataset, DataLoader"
   ]
  },
  {
   "cell_type": "code",
   "execution_count": 51,
   "metadata": {},
   "outputs": [],
   "source": [
    "def lin(a,b,x): return a*x+b\n",
    "\n",
    "def gen_fake_data(n, a, b):\n",
    "    x = np.random.uniform(0,1,n) \n",
    "    y = lin(a,b,x) + 0.1 * np.random.normal(0,3,n)\n",
    "    return x.astype(np.float32), y.astype(np.float32)\n",
    "\n",
    "# create a dataset\n",
    "class RegressionDataset(Dataset):\n",
    "    def __init__(self, a=3, b=8, n=10000):\n",
    "        x, y = gen_fake_data(n, a, b)\n",
    "        x = torch.from_numpy(x).unsqueeze(1)\n",
    "        y = torch.from_numpy(y)\n",
    "        self.x, self.y = x, y\n",
    "    \n",
    "    def __len__(self):\n",
    "        return len(self.y)\n",
    "    \n",
    "    def __getitem__(self, idx):\n",
    "        return self.x[idx], self.y[idx]\n",
    "    \n",
    "fake_dataset = RegressionDataset()"
   ]
  },
  {
   "cell_type": "markdown",
   "metadata": {},
   "source": [
    "Next we are going to create a data loader. The data loader provides the following features:\n",
    "* Batching the data\n",
    "* Shuffling the data\n",
    "* Load the data in parallel using multiprocessing workers."
   ]
  },
  {
   "cell_type": "code",
   "execution_count": 53,
   "metadata": {},
   "outputs": [],
   "source": [
    "dataloader = DataLoader(fake_dataset, batch_size=1000, shuffle=True)\n",
    "x, y = next(iter(dataloader))"
   ]
  },
  {
   "cell_type": "code",
   "execution_count": 54,
   "metadata": {},
   "outputs": [
    {
     "data": {
      "text/plain": [
       "tensor([ 8.9802, 10.8982,  9.0729, 10.3281,  9.1315,  8.2404,  9.6597,  8.0929,\n",
       "         9.0827,  8.8673,  9.4133,  9.9174, 10.1916, 10.4400,  9.4867, 10.5927,\n",
       "         8.7195,  9.1708,  9.4786, 10.0817,  8.9490, 10.8735,  9.6862, 10.6450,\n",
       "         9.0046, 10.0240,  8.9616, 10.5875, 10.8608,  7.9019,  8.4050, 10.4774,\n",
       "         8.9019,  9.1773, 10.2884,  8.9359,  9.3265, 10.2945,  9.1268, 10.3486,\n",
       "        10.7057,  8.9394,  8.5690,  9.8958,  9.3557,  9.1735,  9.3780,  8.7276,\n",
       "         8.5683,  8.3173, 10.1338,  8.6672,  8.8737, 10.4978, 10.2417,  8.1791,\n",
       "        10.1037,  8.1293, 10.1387,  9.7556,  8.6285,  8.8230,  9.0336, 10.8650,\n",
       "         8.4143,  7.7970, 10.4719,  9.3188,  8.6434,  8.8183,  8.1630,  9.7778,\n",
       "         9.7088, 10.9395, 10.5993,  8.5434, 10.5216,  8.0621,  9.4343, 10.9109,\n",
       "        10.3220, 10.6342, 10.4255,  9.1149,  8.3155,  8.1982,  8.9841, 10.2343,\n",
       "         8.7615,  9.3005, 10.7633,  9.4698,  9.3829, 10.9019,  9.7220,  8.8659,\n",
       "        10.7519,  8.6692, 11.5105, 10.6469, 10.7909,  9.9813, 10.0332,  9.3037,\n",
       "        10.4784,  9.8450, 10.0571,  9.2054, 10.6621,  9.5368, 10.9322, 10.2343,\n",
       "        10.2160,  8.3704,  9.3565, 10.0416,  8.1500, 10.7403,  9.4049,  8.3832,\n",
       "         7.5076, 10.4796, 10.5428,  8.6046,  9.3614, 10.8791, 11.5234,  8.5804,\n",
       "         8.5197,  8.0094,  9.2027,  8.4649,  8.5658,  9.1382,  8.1975,  9.2667,\n",
       "         9.8467, 10.0668, 10.8418, 10.0046,  9.6923,  9.0836, 10.8209,  8.9198,\n",
       "        10.9633,  9.3347, 10.4063,  9.7190,  9.2760,  8.7806,  9.0347,  8.3697,\n",
       "         9.2798,  9.1580,  9.9827,  7.7185,  9.2610,  9.2091,  7.9142, 10.6013,\n",
       "        10.9840,  9.9879, 10.1709,  9.1900,  9.1426,  8.6771, 10.3430,  8.8164,\n",
       "         9.6453, 10.2846,  9.2843,  9.1878, 10.9633, 10.3841,  8.7695, 10.3971,\n",
       "         9.4876,  8.5298,  9.5017, 10.6452, 10.9063,  9.2232, 10.5725,  9.7270,\n",
       "         9.3402, 10.6307, 10.5139,  9.8757, 10.3395,  9.2805,  8.6415,  9.4440,\n",
       "         8.9047,  8.8778,  9.2161,  9.9386, 10.6722,  8.4135,  8.8064,  9.7831,\n",
       "         7.8746,  9.4420,  8.1059, 10.1855,  9.9566, 10.0935,  9.6713,  8.8281,\n",
       "         9.1819,  9.9800,  7.9825,  9.1361,  7.8299,  9.0377,  8.6897,  8.5856,\n",
       "         9.6254, 10.1697, 10.4982,  8.5621, 10.2840, 10.1042,  8.6358,  9.8763,\n",
       "         8.7238,  8.4487, 10.8858, 10.7655,  8.0369,  8.1478,  9.3004, 10.0219,\n",
       "         8.9355,  9.4338,  7.9369,  9.0160,  9.8703, 10.9082, 10.7187, 10.8284,\n",
       "        10.5126, 10.3366,  9.7333,  8.3030,  7.7613,  8.9646,  8.0657,  7.9723,\n",
       "         8.6713,  9.5293, 10.6200, 10.0510,  9.6816, 10.1816,  9.2911,  9.6878,\n",
       "         9.5603, 10.6638, 10.7361, 10.3085,  9.3327, 10.7820,  9.1693,  8.7299,\n",
       "         9.0257,  9.8733,  9.3245,  8.3255,  7.7134, 10.7245,  8.1680,  9.7489,\n",
       "         8.9207, 10.2694,  8.1517, 10.8771,  9.6802, 10.1259, 10.1138,  9.3164,\n",
       "         8.0679,  9.0073,  8.1195,  9.9472,  9.1789,  8.8011,  9.8872,  8.2986,\n",
       "         9.4927,  8.8114,  9.0243,  8.9860,  9.3343, 11.0679,  8.0494, 10.1115,\n",
       "         9.5118,  8.9750,  8.7907,  7.8605,  9.3472,  8.5277,  9.4825,  9.6135,\n",
       "         8.3186,  8.0321,  8.9756,  9.8877,  8.4787,  8.4289,  9.2913,  8.9138,\n",
       "        10.7138,  9.7057, 10.4173,  9.1944,  9.6638,  9.0031,  9.2007,  8.7439,\n",
       "         9.9486, 11.2306,  9.3353, 10.8509,  8.7724,  9.8181,  8.3703, 10.4642,\n",
       "         8.2489,  8.7177, 10.2172,  9.1680,  8.4045,  9.9612,  8.8432, 10.2942,\n",
       "        10.6151,  9.1443, 10.0440,  9.2812, 10.3491,  8.7152, 10.8446, 10.6751,\n",
       "        10.7621, 10.2598,  9.3128,  8.8521,  7.8359,  9.5816,  9.9538, 11.3910,\n",
       "         9.1014,  9.4375, 10.5518,  9.0508, 10.7167,  9.7152,  8.8593, 10.0605,\n",
       "         9.3771,  8.3438,  8.5717,  8.9615,  9.3074,  8.5079, 10.5615,  7.9343,\n",
       "         8.4361,  8.3784, 10.5612, 11.0168,  7.9672,  9.5382, 10.2146,  9.7962,\n",
       "         8.4910,  8.6251,  9.0748,  9.0125,  8.9191, 10.6787, 10.4131,  8.4368,\n",
       "         8.5648,  9.2438, 10.7510,  9.8714,  9.7004,  8.7255,  8.0805,  9.3059,\n",
       "        10.3199, 10.2391, 10.9299,  9.9746, 10.3253,  8.5806,  9.8594, 10.5406,\n",
       "         8.9658,  8.6332, 11.0461, 10.0411,  9.8967,  9.6469,  9.0089,  8.1108,\n",
       "         8.9737,  8.2089,  8.9072,  9.7770,  8.4172,  9.6302, 10.6409, 10.5350,\n",
       "         8.6472, 10.6120,  9.6950, 10.0791, 10.5897,  9.7393,  9.4512, 10.1133,\n",
       "        10.1107,  9.2242, 10.0016,  8.1535,  8.9825,  9.8483,  7.7745, 10.0971,\n",
       "         9.4461,  9.1767, 10.7568, 11.2389, 10.3558, 10.3401,  8.2852, 10.7703,\n",
       "         9.2418,  8.5254, 11.1052,  8.7728,  9.4788, 10.5138,  8.5604, 10.6968,\n",
       "        10.5253,  8.6859, 10.7703,  9.8179,  7.5287, 10.9480,  9.5100,  8.3436,\n",
       "         9.3010,  7.6332,  8.0803,  9.8996, 10.5137, 10.3753,  8.2499,  8.3029,\n",
       "         9.4597,  8.1336,  9.2989, 11.2625, 10.1096,  9.9154,  8.7526, 10.5808,\n",
       "         9.6419,  9.8700,  9.0063, 10.1422,  9.0231, 10.9620,  8.4960,  9.8846,\n",
       "         8.6658,  8.7386, 10.9254,  9.9371, 10.6440, 10.3724,  7.8372, 11.4851,\n",
       "        10.7534, 10.4404, 10.9122,  9.8797,  9.6117,  9.2146, 10.5644,  8.6866,\n",
       "         9.2627, 10.1544,  9.4736,  8.4956, 10.5381,  9.6700,  9.4703,  8.8142,\n",
       "        10.2765,  9.1561,  8.7901,  9.9063, 10.0976,  8.2660,  9.2040,  8.0655,\n",
       "        10.0177, 10.0618,  8.7408,  9.6556,  9.5910,  9.6505, 10.6479, 10.5215,\n",
       "         9.8554, 10.5408, 10.4976,  7.7145, 10.3423,  9.2599,  9.4753,  7.7347,\n",
       "         9.2162,  9.9007, 11.1436, 10.0856, 11.0273, 10.2581,  9.4264,  9.7175,\n",
       "        11.0214, 10.2726, 10.4569, 10.6244, 10.2682, 10.4243,  7.9200, 10.8996,\n",
       "         7.3730,  8.3808,  8.4107,  9.3609,  9.1704, 10.9263,  8.2862,  7.9221,\n",
       "         8.7295,  8.1313,  9.2966,  9.0266,  9.5766, 10.5719, 11.5829, 10.9574,\n",
       "        10.6083, 10.8235, 10.5778,  8.7675,  7.7077,  8.0681,  9.9364,  9.4868,\n",
       "         9.4860,  9.5331,  9.7664, 10.1032, 10.7278,  8.3956, 10.8248,  9.5883,\n",
       "        10.7756, 10.7186, 10.0582, 11.1617,  8.4263,  8.6707, 10.4825,  9.8355,\n",
       "         9.9809,  9.9115, 10.1179,  8.8712,  9.3182,  9.9390, 10.5982,  9.6968,\n",
       "        10.8841,  9.5939,  8.6374,  8.0973,  9.9586,  9.0573, 10.7358, 10.5435,\n",
       "         9.8693,  8.4263,  8.6968, 10.3227, 10.0427,  9.8980, 10.7048,  9.8365,\n",
       "         8.3529,  8.4191,  9.7663, 10.4352, 10.4888,  9.9552,  9.1477,  8.6482,\n",
       "         9.5889,  9.5780,  9.0362,  9.7838,  8.1764,  9.1494, 10.3500,  9.3758,\n",
       "         8.4660,  9.5230,  8.7544, 10.0263,  8.9648,  8.4375, 10.3851,  9.0288,\n",
       "         8.2533,  8.8288, 10.3872,  8.7748,  9.6392,  9.5151, 11.2767,  9.4382,\n",
       "        10.6703,  9.2646, 10.2744, 10.4965,  9.9068, 10.1260,  9.4335, 10.6208,\n",
       "         9.1537,  9.1504,  9.0772,  9.6223,  7.8962,  9.5955, 10.3858,  8.9990,\n",
       "        10.0665,  9.8580,  9.5629,  8.5634,  8.4577,  9.5262,  8.4105,  8.9267,\n",
       "         9.6811, 10.6142, 10.7689, 10.1225, 10.6031,  7.9307,  8.5722,  7.6074,\n",
       "        10.9731,  9.8855,  9.1282,  8.5314, 10.7063,  8.2866, 10.2345,  9.4653,\n",
       "         8.7177,  8.8821, 10.2931,  9.6571,  9.2207,  8.2168,  9.9918, 10.1204,\n",
       "        10.9327, 10.8448, 11.0026,  8.5276,  9.9726, 10.7358,  8.7483,  9.1441,\n",
       "         9.8154,  8.0286,  7.7149, 10.5272,  8.3351,  8.6561, 10.8519,  8.9290,\n",
       "        10.0852,  9.3220,  9.4724,  8.3456, 10.4245,  9.1187,  8.6992, 10.2243,\n",
       "         9.2461,  9.9085,  8.7522,  9.9359, 10.2707,  9.9310,  9.2200, 10.4961,\n",
       "         8.2093,  9.4237, 10.1944,  9.4292,  9.6914,  9.8185,  8.9752,  9.1656,\n",
       "        10.3005,  8.0298, 10.0427, 10.1691,  9.5810, 10.5925, 10.8145, 10.1195,\n",
       "         8.4809,  8.0969, 10.9057, 10.1127,  8.9424,  8.2636,  8.1749, 10.5419,\n",
       "         7.7812,  8.6341, 10.7079, 10.1631, 10.6315,  8.9359, 10.7419, 10.2458,\n",
       "        10.6548,  8.6154,  9.0153,  9.0222,  8.2614, 10.1339, 10.2556, 11.3255,\n",
       "        10.7610, 10.3406,  7.9703,  8.5737, 10.8961,  8.2883,  8.1517, 10.2068,\n",
       "         9.7645, 11.0924,  8.2510,  9.2513,  7.8840, 10.0776, 10.2733,  8.1871,\n",
       "         8.5616,  7.7238,  9.8491, 10.4739, 10.2249,  8.3947,  8.3849,  9.1351,\n",
       "         8.0791,  9.2896, 10.5550,  8.6150,  8.7174,  8.8405, 10.1179,  8.4666,\n",
       "        10.7269,  7.7160,  8.8093, 11.1511,  9.5731,  9.0708,  9.8625,  8.8393,\n",
       "         9.5071,  8.9382, 10.4956, 10.2401,  8.0353, 10.1740,  9.9057,  9.4744,\n",
       "         9.0073,  9.6070,  8.6683,  8.6809, 10.1273, 10.5730, 10.2418,  9.8942,\n",
       "        10.7263, 10.1460, 10.3915, 10.5901,  9.5036,  8.9330,  9.9184,  7.8329,\n",
       "         9.0542, 10.9511,  9.3487, 10.8001,  8.7611,  8.3152, 10.5865, 11.1857,\n",
       "        10.6343, 10.8950, 10.0132,  8.5834, 10.3926, 10.2329,  9.6020, 11.0596,\n",
       "        10.8320, 10.8149,  8.7614,  9.1367, 10.7186, 11.4812, 10.4663,  8.2195,\n",
       "        10.6385, 10.6703,  9.3726,  9.1338,  9.4327,  9.3988,  9.2940,  9.9852,\n",
       "         8.3377,  8.4532, 10.1570, 10.2673,  9.8784, 10.3681, 11.2950,  8.3787,\n",
       "        10.5091,  8.7453,  8.6461, 11.2045, 11.0267, 11.0979,  8.6156,  9.9787,\n",
       "        10.0041,  8.9932, 10.4519,  9.7660,  9.2752,  8.7745,  8.8334,  9.6996,\n",
       "        10.2738,  9.7572,  8.0311, 10.6180,  9.8050,  9.5718,  9.5534,  8.6947,\n",
       "        10.3484,  9.9469,  8.2791,  7.7891,  7.6483,  9.9297, 10.5139, 10.0507,\n",
       "        10.3496, 10.7799,  8.4448,  7.7546, 10.0650,  8.3920,  9.6144,  9.0130,\n",
       "         8.5956, 10.7774,  9.0753,  8.6100, 10.2577, 10.8238, 11.0030,  9.0930,\n",
       "        10.3582,  9.8800,  8.1336, 10.3889, 10.0910,  9.4524,  8.4318,  7.5243,\n",
       "         8.4298,  9.9140,  8.7875,  9.7815,  8.2129,  9.2170, 10.9459, 10.4664,\n",
       "         9.6859,  9.2576,  9.6511,  9.2651, 11.3102,  9.2126,  7.9026, 10.5634,\n",
       "        10.5043, 11.1178,  8.9810, 10.0738, 10.0486, 10.3104,  8.5891,  9.7152,\n",
       "         8.9257, 10.3584, 10.6372, 10.5254,  9.6323,  8.3980,  9.8388,  8.9032,\n",
       "        10.8037,  8.7019,  8.5571,  8.6659,  9.9279, 10.2417,  9.0780, 10.8702,\n",
       "         8.4075,  9.7475,  8.5046, 10.8302,  8.0542,  8.9206, 11.1781, 10.8452,\n",
       "        11.0794, 10.0699,  9.3584,  8.4640,  9.6005, 10.2862,  9.1898, 10.3874,\n",
       "         9.3098,  9.2994,  9.3046,  9.8384, 10.4715,  9.9250,  9.5751,  9.9498,\n",
       "         8.0979, 10.2361, 11.2329,  8.0795, 10.2749,  8.3414, 10.6795, 10.1589,\n",
       "         9.3561,  8.6103,  8.5671,  8.7084,  9.9408, 10.1024,  9.3495, 10.7794])"
      ]
     },
     "execution_count": 54,
     "metadata": {},
     "output_type": "execute_result"
    }
   ],
   "source": [
    "y.type(torch.FloatTensor)"
   ]
  },
  {
   "cell_type": "code",
   "execution_count": 55,
   "metadata": {},
   "outputs": [],
   "source": [
    "learning_rate = 0.1\n",
    "optimizer = torch.optim.Adam(model2.parameters(), lr=learning_rate)"
   ]
  },
  {
   "cell_type": "code",
   "execution_count": 56,
   "metadata": {},
   "outputs": [
    {
     "name": "stdout",
     "output_type": "stream",
     "text": [
      "62.31412124633789\n",
      "0.0895787924528122\n",
      "0.08507040143013\n",
      "0.08935856074094772\n",
      "0.08865729719400406\n",
      "0.07988423109054565\n",
      "0.08873281627893448\n",
      "0.08371575176715851\n",
      "0.08771827816963196\n",
      "0.08764556795358658\n"
     ]
    }
   ],
   "source": [
    "for t in range(1000):\n",
    "    for i, (x, y) in enumerate(dataloader): \n",
    "        \n",
    "        y_hat = model2(x)\n",
    "        loss = F.mse_loss(y_hat, y.unsqueeze(1))\n",
    "    \n",
    "        optimizer.zero_grad()\n",
    "        loss.backward()\n",
    "    \n",
    "        optimizer.step()\n",
    "    if t % 100 == 0: print(loss.item())"
   ]
  },
  {
   "cell_type": "code",
   "execution_count": 57,
   "metadata": {},
   "outputs": [
    {
     "name": "stdout",
     "output_type": "stream",
     "text": [
      "[Parameter containing:\n",
      "tensor([[2.9868]], requires_grad=True), Parameter containing:\n",
      "tensor([7.9936], requires_grad=True)]\n"
     ]
    }
   ],
   "source": [
    "print([p for p in model2.parameters()])"
   ]
  },
  {
   "cell_type": "markdown",
   "metadata": {},
   "source": [
    "# Two layer neural network"
   ]
  },
  {
   "cell_type": "code",
   "execution_count": 58,
   "metadata": {},
   "outputs": [],
   "source": [
    "# generating fake data\n",
    "# Here we generate some fake data\n",
    "def sigmoid(x):\n",
    "    return 1/(1 + np.exp(-x))\n",
    "\n",
    "def gen_nn_fake_data(n):\n",
    "    x = np.random.uniform(0,10, (n, 2))\n",
    "    x1 = x[:,0]\n",
    "    x2 = x[:,1]\n",
    "    score1 = sigmoid(-x1 - 8* x2 + 50)\n",
    "    score2 = sigmoid(-7*x1 - 2* x2 + 50)\n",
    "    score3 = 2* score1 + 3*score2 - 0.1\n",
    "    y = score3 < 0\n",
    "    return x, y.astype(int)\n",
    "\n",
    "x, y = gen_nn_fake_data(500)"
   ]
  },
  {
   "cell_type": "code",
   "execution_count": 59,
   "metadata": {},
   "outputs": [
    {
     "data": {
      "image/png": "[encoded data removed]",
      "text/plain": [
       "<matplotlib.figure.Figure at 0x11ca18668>"
      ]
     },
     "metadata": {},
     "output_type": "display_data"
    }
   ],
   "source": [
    "import matplotlib.pyplot as plt\n",
    "plt.scatter(x[:,0],x[:,1],c=y, s=8);\n",
    "plt.xlabel(\"x1\"); plt.ylabel(\"x2\");"
   ]
  },
  {
   "cell_type": "code",
   "execution_count": 60,
   "metadata": {},
   "outputs": [
    {
     "data": {
      "text/plain": [
       "Sequential(\n",
       "  (0): Linear(in_features=2, out_features=2, bias=True)\n",
       "  (1): Sigmoid()\n",
       "  (2): Linear(in_features=2, out_features=1, bias=True)\n",
       ")"
      ]
     },
     "execution_count": 60,
     "metadata": {},
     "output_type": "execute_result"
    }
   ],
   "source": [
    "model = torch.nn.Sequential(\n",
    "    torch.nn.Linear(2, 2),\n",
    "    torch.nn.Sigmoid(),\n",
    "    torch.nn.Linear(2, 1)\n",
    ")\n",
    "model"
   ]
  },
  {
   "cell_type": "code",
   "execution_count": 61,
   "metadata": {},
   "outputs": [],
   "source": [
    "x, y = gen_nn_fake_data(10000)\n",
    "x = torch.tensor(x).float()\n",
    "y = torch.tensor(y).float()"
   ]
  },
  {
   "cell_type": "code",
   "execution_count": 62,
   "metadata": {},
   "outputs": [],
   "source": [
    "learning_rate = 0.01\n",
    "optimizer = torch.optim.Adam(model.parameters(), lr=learning_rate)"
   ]
  },
  {
   "cell_type": "code",
   "execution_count": 66,
   "metadata": {},
   "outputs": [
    {
     "name": "stdout",
     "output_type": "stream",
     "text": [
      "0.006109388545155525\n",
      "0.005175320897251368\n",
      "0.004447111394256353\n",
      "0.0038672310765832663\n",
      "0.0034039760939776897\n",
      "0.0030306181870400906\n",
      "0.0027282966766506433\n",
      "0.0024804389104247093\n",
      "0.0022864765487611294\n",
      "0.0021021030843257904\n"
     ]
    }
   ],
   "source": [
    "for t in range(10000):\n",
    "    # Forward pass: compute predicted y using operations on Variables\n",
    "    y_hat = model(x)\n",
    "    loss = F.binary_cross_entropy(torch.sigmoid(y_hat), y.unsqueeze(1))\n",
    "    if t % 1000 == 0: print(loss.item())\n",
    "       \n",
    "    # Before the backward pass, use the optimizer object to zero all of the\n",
    "    # gradients for the variables\n",
    "    optimizer.zero_grad()\n",
    "    loss.backward()\n",
    "    \n",
    "    # Calling the step function on an Optimizer makes an update to its\n",
    "    # parameters\n",
    "    optimizer.step()"
   ]
  },
  {
   "cell_type": "code",
   "execution_count": 67,
   "metadata": {},
   "outputs": [
    {
     "name": "stdout",
     "output_type": "stream",
     "text": [
      "[Parameter containing:\n",
      "tensor([[-6.2456, -1.7632],\n",
      "        [ 1.1910,  9.5828]], requires_grad=True), Parameter containing:\n",
      "tensor([ 46.3979, -62.8288], requires_grad=True), Parameter containing:\n",
      "tensor([[-72.8232,  49.5533]], requires_grad=True), Parameter containing:\n",
      "tensor([-30.8174], requires_grad=True)]\n"
     ]
    }
   ],
   "source": [
    "print([p for p in model.parameters()])"
   ]
  },
  {
   "cell_type": "code",
   "execution_count": 68,
   "metadata": {},
   "outputs": [
    {
     "data": {
      "text/plain": [
       "array([  72.7843, -134.4691,  -45.7142])"
      ]
     },
     "execution_count": 68,
     "metadata": {},
     "output_type": "execute_result"
    }
   ],
   "source": [
    " np.array([72.7843, -134.4691, -45.7142])"
   ]
  },
  {
   "cell_type": "markdown",
   "metadata": {},
   "source": [
    "# References\n",
    "* https://pytorch.org/docs/stable/index.html\n",
    "* http://pytorch.org/tutorials/beginner/pytorch_with_examples.html\n",
    "* https://hsaghir.github.io/data_science/pytorch_starter/"
   ]
  }
 ],
 "metadata": {
  "kernelspec": {
   "display_name": "Python 3",
   "language": "python",
   "name": "python3"
  },
  "language_info": {
   "codemirror_mode": {
    "name": "ipython",
    "version": 3
   },
   "file_extension": ".py",
   "mimetype": "text/x-python",
   "name": "python",
   "nbconvert_exporter": "python",
   "pygments_lexer": "ipython3",
   "version": "3.6.4"
  }
 },
 "nbformat": 4,
 "nbformat_minor": 2
}
